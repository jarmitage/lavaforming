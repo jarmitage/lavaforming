{
 "cells": [
  {
   "cell_type": "code",
   "execution_count": 2,
   "metadata": {},
   "outputs": [
    {
     "name": "stdout",
     "output_type": "stream",
     "text": [
      "ISN93: E325504.3180867614, N377849.1116487663\n",
      "ISN93: E329691.37000263407, N377726.3503328124\n",
      "ISN93: E326024.24322239, N381238.17560032057\n"
     ]
    }
   ],
   "source": [
    "from pyproj import Transformer\n",
    "\n",
    "def wgs84_to_isn93(lat, lon):\n",
    "    transformer = Transformer.from_crs(\"EPSG:4326\", \"EPSG:3057\", always_xy=True)\n",
    "    x, y = transformer.transform(lon, lat)\n",
    "    return x, y\n",
    "\n",
    "coordinates = [\n",
    "    (63.86033821920702, -22.549877013814115),\n",
    "    (63.861321356343886, -22.46473297465165),\n",
    "    (63.89095058028964, -22.54318222041222)\n",
    "]\n",
    "\n",
    "for lat, lon in coordinates:\n",
    "    x, y = wgs84_to_isn93(lat, lon)\n",
    "    print(f\"ISN93: E{x}, N{y}\")"
   ]
  },
  {
   "cell_type": "code",
   "execution_count": 4,
   "metadata": {},
   "outputs": [
    {
     "name": "stdout",
     "output_type": "stream",
     "text": [
      "WGS84 Bounding Box:\n",
      "SW: (63.86033821920702, -22.549877013814115)\n",
      "NE: (63.89095058028964, -22.46473297465165)\n",
      "\n",
      "ISN93 Bounding Box:\n",
      "SW: (E325504.3180867614, N377726.3503328124)\n",
      "NE: (E329691.37000263407, N381238.17560032057)\n"
     ]
    }
   ],
   "source": [
    "from pyproj import Transformer\n",
    "\n",
    "coords = [\n",
    "    (63.86033821920702, -22.549877013814115),\n",
    "    (63.861321356343886, -22.46473297465165),\n",
    "    (63.89095058028964, -22.54318222041222)\n",
    "]\n",
    "\n",
    "# WGS84 Bounding Box\n",
    "lats, lons = zip(*coords)\n",
    "wgs84_bbox = {\n",
    "    'min_lat': min(lats),\n",
    "    'max_lat': max(lats),\n",
    "    'min_lon': min(lons),\n",
    "    'max_lon': max(lons)\n",
    "}\n",
    "\n",
    "print(\"WGS84 Bounding Box:\")\n",
    "print(f\"SW: ({wgs84_bbox['min_lat']}, {wgs84_bbox['min_lon']})\")\n",
    "print(f\"NE: ({wgs84_bbox['max_lat']}, {wgs84_bbox['max_lon']})\")\n",
    "\n",
    "# ISN93 Bounding Box\n",
    "transformer = Transformer.from_crs(\"EPSG:4326\", \"EPSG:3057\", always_xy=True)\n",
    "isn93_coords = [transformer.transform(lon, lat) for lat, lon in coords]\n",
    "x_coords, y_coords = zip(*isn93_coords)\n",
    "\n",
    "isn93_bbox = {\n",
    "    'min_x': min(x_coords),\n",
    "    'max_x': max(x_coords),\n",
    "    'min_y': min(y_coords),\n",
    "    'max_y': max(y_coords)\n",
    "}\n",
    "\n",
    "print(\"\\nISN93 Bounding Box:\")\n",
    "print(f\"SW: (E{isn93_bbox['min_x']}, N{isn93_bbox['min_y']})\")\n",
    "print(f\"NE: (E{isn93_bbox['max_x']}, N{isn93_bbox['max_y']})\")"
   ]
  }
 ],
 "metadata": {
  "kernelspec": {
   "display_name": "lavaforming",
   "language": "python",
   "name": "python3"
  },
  "language_info": {
   "codemirror_mode": {
    "name": "ipython",
    "version": 3
   },
   "file_extension": ".py",
   "mimetype": "text/x-python",
   "name": "python",
   "nbconvert_exporter": "python",
   "pygments_lexer": "ipython3",
   "version": "3.10.14"
  }
 },
 "nbformat": 4,
 "nbformat_minor": 2
}
