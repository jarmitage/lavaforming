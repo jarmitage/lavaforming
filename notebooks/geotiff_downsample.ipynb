{
 "cells": [
  {
   "cell_type": "code",
   "execution_count": 1,
   "metadata": {},
   "outputs": [
    {
     "name": "stderr",
     "output_type": "stream",
     "text": [
      "/Users/jarm/miniconda3/envs/lavaforming/lib/python3.10/site-packages/dask/dataframe/__init__.py:49: FutureWarning: \n",
      "Dask dataframe query planning is disabled because dask-expr is not installed.\n",
      "\n",
      "You can install it with `pip install dask[dataframe]` or `conda install dask`.\n",
      "This will raise in a future version.\n",
      "\n",
      "  warnings.warn(msg, FutureWarning)\n"
     ]
    }
   ],
   "source": [
    "import os\n",
    "import subprocess\n",
    "\n",
    "# Math\n",
    "import numpy as np\n",
    "import pandas as pd\n",
    "import matplotlib.pyplot as plt\n",
    "import cartopy.crs as ccrs\n",
    "from scipy.interpolate import griddata\n",
    "\n",
    "# GIS\n",
    "import rasterio as rio\n",
    "import rioxarray as rxr\n",
    "import xarray as xr\n",
    "import utm\n",
    "from pyproj import Transformer\n",
    "from xrspatial import hillshade\n",
    "from rasterio.enums import Resampling"
   ]
  },
  {
   "cell_type": "code",
   "execution_count": 5,
   "metadata": {},
   "outputs": [
    {
     "name": "stdout",
     "output_type": "stream",
     "text": [
      "The autoreload extension is already loaded. To reload it, use:\n",
      "  %reload_ext autoreload\n"
     ]
    }
   ],
   "source": [
    "%load_ext autoreload\n",
    "%autoreload 2\n",
    "import sys\n",
    "sys.path.insert(0,\"../py/\")\n",
    "import geotiff as gt\n",
    "from dem_resample import resample_dem"
   ]
  },
  {
   "cell_type": "code",
   "execution_count": 3,
   "metadata": {},
   "outputs": [],
   "source": [
    "path = \"/Users/jarm/Documents/work/code/lavaforming/lavaforming/dem/Iceland_tile_raw.tif\""
   ]
  },
  {
   "cell_type": "code",
   "execution_count": 4,
   "metadata": {},
   "outputs": [
    {
     "name": "stdout",
     "output_type": "stream",
     "text": [
      "Metadata for: /Users/jarm/Documents/work/code/lavaforming/lavaforming/dem/Iceland_tile_raw.tif\n",
      "\n",
      "Bounds: BoundingBox(left=199243.1004, bottom=241235.82010000007, right=796186.1983, top=756645.2265)\n",
      "Width: 29847\n",
      "Height: 25770\n",
      "CRS: EPSG:3057\n",
      "Transform: | 20.00, 0.00, 199243.10|\n",
      "| 0.00,-20.00, 756645.23|\n",
      "| 0.00, 0.00, 1.00|\n",
      "Count: 1 (number of bands)\n",
      "Dtype: float32\n",
      "Nodata value: -9999.900390625\n",
      "\n",
      "Tags: {'AREA_OR_POINT': 'Area'}\n"
     ]
    }
   ],
   "source": [
    "gt.print_info(path)"
   ]
  },
  {
   "cell_type": "code",
   "execution_count": 6,
   "metadata": {},
   "outputs": [],
   "source": [
    "src = gt.read_src(path)"
   ]
  },
  {
   "cell_type": "code",
   "execution_count": 7,
   "metadata": {},
   "outputs": [
    {
     "data": {
      "text/plain": [
       "20.000103792675983"
      ]
     },
     "execution_count": 7,
     "metadata": {},
     "output_type": "execute_result"
    }
   ],
   "source": [
    "src.res[0]"
   ]
  }
 ],
 "metadata": {
  "kernelspec": {
   "display_name": "lavaforming",
   "language": "python",
   "name": "python3"
  },
  "language_info": {
   "codemirror_mode": {
    "name": "ipython",
    "version": 3
   },
   "file_extension": ".py",
   "mimetype": "text/x-python",
   "name": "python",
   "nbconvert_exporter": "python",
   "pygments_lexer": "ipython3",
   "version": "3.10.14"
  }
 },
 "nbformat": 4,
 "nbformat_minor": 2
}
